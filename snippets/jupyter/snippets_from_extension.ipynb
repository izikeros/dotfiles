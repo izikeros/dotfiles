{
 "cells": [
  {
   "cell_type": "code",
   "execution_count": null,
   "id": "behavioral-cocktail",
   "metadata": {},
   "outputs": [],
   "source": [
    "# TODO: write script that will convert odd cells to snippet name and even cells to json snippet\n",
    "# (automate generation of snippets.json for Jupyter snippets plugin)"
   ]
  },
  {
   "cell_type": "markdown",
   "id": "yellow-threat",
   "metadata": {},
   "source": [
    "# Import pandas, numpy, matplotlib"
   ]
  },
  {
   "cell_type": "code",
   "execution_count": null,
   "id": "weird-recovery",
   "metadata": {},
   "outputs": [],
   "source": [
    "import pandas as pd\n",
    "import numpy as np\n",
    "from matplotlib import pyplot as plt"
   ]
  },
  {
   "cell_type": "markdown",
   "id": "cultural-slope",
   "metadata": {},
   "source": [
    "# Notebook markdown header"
   ]
  },
  {
   "cell_type": "markdown",
   "id": "hindu-public",
   "metadata": {},
   "source": [
    "# Title\n",
    "**Notebook Purpose:**\n",
    "\n",
    "-\n",
    "-\n",
    "\n",
    "**Created by:** Krystian Safjan\n",
    "\n",
    "**Jira:** [PROJECT-123](https://jiradc.com/browse/PROJECT-123)\n",
    "\n",
    "**Changes:**\n",
    "\n",
    "- 2020-08-01: KS: Initial implementation"
   ]
  },
  {
   "cell_type": "markdown",
   "id": "innovative-roads",
   "metadata": {},
   "source": [
    "# Pandas - sample dataframe 1"
   ]
  },
  {
   "cell_type": "code",
   "execution_count": null,
   "id": "fallen-lucas",
   "metadata": {},
   "outputs": [],
   "source": [
    "raw_data = {\n",
    "        'subject_id': ['1', '2', '3', '4', '5'],\n",
    "        'first_name': ['Alex', 'Amy', 'Allen', 'Alice', 'Ayoung'], \n",
    "        'last_name': ['Anderson', 'Ackerman', 'Ali', 'Aoni', 'Atiches']}\n",
    "df_a = pd.DataFrame(raw_data, columns = ['subject_id', 'first_name', 'last_name'])"
   ]
  },
  {
   "cell_type": "markdown",
   "id": "everyday-cabinet",
   "metadata": {},
   "source": [
    "# Pandas - sample dataframe 2"
   ]
  },
  {
   "cell_type": "code",
   "execution_count": null,
   "id": "seeing-lawyer",
   "metadata": {},
   "outputs": [],
   "source": [
    "raw_data = {\n",
    "        'label': ['Alex', 'Amy', 'Allen', 'Alice', 'Ayoung'],\n",
    "        'values_1': [104, 105, 109, 99, 80],\n",
    "        'values_2': [31, 17, 42, 11, 23]}\n",
    "df_b = pd.DataFrame(raw_data, columns = ['label', 'values_1', 'values_2'])"
   ]
  },
  {
   "cell_type": "markdown",
   "id": "medium-peeing",
   "metadata": {},
   "source": [
    "# Load numpy sparse"
   ]
  },
  {
   "cell_type": "code",
   "execution_count": null,
   "id": "experienced-luxembourg",
   "metadata": {},
   "outputs": [],
   "source": [
    "import scipy.sparse\n",
    "x = scipy.sparse.load_npz('/data/data.npz')"
   ]
  },
  {
   "cell_type": "markdown",
   "id": "union-documentary",
   "metadata": {},
   "source": [
    "# Save numpy sparse"
   ]
  },
  {
   "cell_type": "code",
   "execution_count": null,
   "id": "controlled-rental",
   "metadata": {},
   "outputs": [],
   "source": [
    "import scipy.sparse\n",
    "scipy.sparse.save_npz('data.npz', x)"
   ]
  },
  {
   "cell_type": "markdown",
   "id": "partial-cruise",
   "metadata": {},
   "source": [
    "# Pandas - unique from string column"
   ]
  },
  {
   "cell_type": "code",
   "execution_count": null,
   "id": "incomplete-genealogy",
   "metadata": {},
   "outputs": [],
   "source": [
    "list_of_unique_vals = pd.unique(df[['column_to_extract_unique_vals_from']].values.ravel())"
   ]
  },
  {
   "cell_type": "markdown",
   "id": "absent-waste",
   "metadata": {},
   "source": [
    "# Run in joblib context"
   ]
  },
  {
   "cell_type": "code",
   "execution_count": null,
   "id": "pressed-debate",
   "metadata": {},
   "outputs": [],
   "source": [
    "with joblib.parallel_backend(n_jobs=n_jobs, backend='threading'):\n",
    "    pass"
   ]
  },
  {
   "cell_type": "markdown",
   "id": "arabic-sarah",
   "metadata": {},
   "source": [
    "# Matplotlib - set my custom plot styling"
   ]
  },
  {
   "cell_type": "code",
   "execution_count": null,
   "id": "nasty-bishop",
   "metadata": {},
   "outputs": [],
   "source": [
    "sys.path.append('../..')\n",
    "from src.visualization.matplotlib_styling import set_styling\n",
    "set_styling('bmh')\n",
    "#set_styling('fivethirtyeight')"
   ]
  },
  {
   "cell_type": "markdown",
   "id": "classical-balloon",
   "metadata": {},
   "source": [
    "# Matplotlib - set  plot styling"
   ]
  },
  {
   "cell_type": "code",
   "execution_count": null,
   "id": "seven-slope",
   "metadata": {},
   "outputs": [],
   "source": [
    "# TODO"
   ]
  },
  {
   "cell_type": "markdown",
   "id": "sweet-carolina",
   "metadata": {},
   "source": [
    "# Matplotlib - download and set my custom styling"
   ]
  },
  {
   "cell_type": "code",
   "execution_count": null,
   "id": "arctic-gibraltar",
   "metadata": {},
   "outputs": [],
   "source": [
    "%%bash\n",
    "if [ ! -e matplotlib_styling.py ]; then\n",
    "   wget https://gist.githubusercontent.com/izikeros/457a99d950310da8166050a13f4043cb/raw/4334d77bdaad867003926e7cf87ffbec7131528d/matplotlib_styling.py\n",
    "fi\n",
    "from matplotlib_styling import set_styling\n",
    "set_styling('bmh')\n",
    "#set_styling('fivethirtyeight')"
   ]
  },
  {
   "cell_type": "markdown",
   "id": "peaceful-words",
   "metadata": {},
   "source": [
    "# Pandas - Turn off scientific notation"
   ]
  },
  {
   "cell_type": "code",
   "execution_count": null,
   "id": "muslim-companion",
   "metadata": {},
   "outputs": [],
   "source": [
    "pd.set_option(‘display.float_format’, lambda x: ‘%.3f’ % x)"
   ]
  },
  {
   "cell_type": "markdown",
   "id": "exposed-westminster",
   "metadata": {},
   "source": [
    "# Pandas - apply: process field"
   ]
  },
  {
   "cell_type": "code",
   "execution_count": null,
   "id": "brief-invite",
   "metadata": {},
   "outputs": [],
   "source": [
    "def calculate_taxes(price):\n",
    "    taxes = price * 0.12\n",
    "    return taxes\n",
    "df['taxes'] = df.price.apply(calculate_taxes)"
   ]
  },
  {
   "cell_type": "markdown",
   "id": "stuck-liberal",
   "metadata": {},
   "source": [
    "# Pandas - apply: process row"
   ]
  },
  {
   "cell_type": "code",
   "execution_count": null,
   "id": "enormous-commodity",
   "metadata": {},
   "outputs": [],
   "source": [
    "def calculate_taxes(row):\n",
    "    row['taxes'] = row['price'] * 0.12\n",
    "    return row\n",
    "df.apply(calculate_taxes, axis=1)"
   ]
  },
  {
   "cell_type": "markdown",
   "id": "changing-statement",
   "metadata": {},
   "source": [
    "# Pandas - rename columns"
   ]
  },
  {
   "cell_type": "code",
   "execution_count": null,
   "id": "canadian-taiwan",
   "metadata": {},
   "outputs": [],
   "source": [
    "df = df.rename(columns={'before':'after'})"
   ]
  },
  {
   "cell_type": "markdown",
   "id": "owned-entry",
   "metadata": {},
   "source": [
    "# Bash - Capture results and exchange between bash and python"
   ]
  },
  {
   "cell_type": "code",
   "execution_count": null,
   "id": "great-diving",
   "metadata": {},
   "outputs": [],
   "source": [
    "a=!ls\n",
    "print(a)\n",
    "\n",
    "b='foo'\n",
    "! echo $b"
   ]
  },
  {
   "cell_type": "markdown",
   "id": "broke-reader",
   "metadata": {},
   "source": [
    "# Graphviz"
   ]
  },
  {
   "cell_type": "code",
   "execution_count": null,
   "id": "million-arcade",
   "metadata": {},
   "outputs": [],
   "source": [
    "# install graphviz and dotmagic extension:\n",
    "# pip install graphviz git+https://github.com/sursingh/dotmagic.git\n",
    "%load_ext dotmagic\n",
    "%%dot -p\n",
    "digraph {\n",
    "    a -> b -> c -> a\n",
    "}"
   ]
  },
  {
   "cell_type": "markdown",
   "id": "infinite-trustee",
   "metadata": {},
   "source": [
    "# Jupyter - autoreload"
   ]
  },
  {
   "cell_type": "code",
   "execution_count": null,
   "id": "selected-provision",
   "metadata": {},
   "outputs": [],
   "source": [
    "%load_ext autoreload\n",
    "%autoreload"
   ]
  },
  {
   "cell_type": "markdown",
   "id": "painted-yesterday",
   "metadata": {},
   "source": [
    "# Pandas - wide display of dataframe"
   ]
  },
  {
   "cell_type": "code",
   "execution_count": null,
   "id": "usual-trademark",
   "metadata": {},
   "outputs": [],
   "source": [
    "pd.set_option('display.max_columns', None)\n",
    "pd.set_option('display.expand_frame_repr', False)\n",
    "pd.set_option('max_colwidth', None)"
   ]
  },
  {
   "cell_type": "markdown",
   "id": "intermediate-nirvana",
   "metadata": {},
   "source": [
    "# Plot hist from Count"
   ]
  },
  {
   "cell_type": "code",
   "execution_count": null,
   "id": "infectious-cologne",
   "metadata": {},
   "outputs": [],
   "source": [
    "# TODO"
   ]
  },
  {
   "cell_type": "markdown",
   "id": "nuclear-sensitivity",
   "metadata": {},
   "source": [
    "# Plot hist from dict"
   ]
  },
  {
   "cell_type": "code",
   "execution_count": null,
   "id": "genetic-miniature",
   "metadata": {},
   "outputs": [],
   "source": [
    "# TODO"
   ]
  },
  {
   "cell_type": "markdown",
   "id": "horizontal-cotton",
   "metadata": {},
   "source": [
    "# Matplotlib - annotate plot"
   ]
  },
  {
   "cell_type": "code",
   "execution_count": null,
   "id": "trying-detection",
   "metadata": {},
   "outputs": [],
   "source": [
    "# need to import it\n",
    "# TODO: add snippet downloader as for matplotlib_styling\n",
    "add_label_values_barh(ax)"
   ]
  },
  {
   "cell_type": "markdown",
   "id": "welsh-drawing",
   "metadata": {},
   "source": [
    "# Pandas - display dataframe with caption"
   ]
  },
  {
   "cell_type": "code",
   "execution_count": null,
   "id": "complicated-martin",
   "metadata": {},
   "outputs": [],
   "source": [
    "display(df.style.set_caption('My caption'))"
   ]
  },
  {
   "cell_type": "markdown",
   "id": "likely-complexity",
   "metadata": {},
   "source": [
    "# Pandas - display two dataframes side-by-side"
   ]
  },
  {
   "cell_type": "code",
   "execution_count": null,
   "id": "retained-calculator",
   "metadata": {},
   "outputs": [],
   "source": [
    "# TODO"
   ]
  },
  {
   "cell_type": "markdown",
   "id": "improved-implementation",
   "metadata": {},
   "source": [
    "# Pandas - limit display precision"
   ]
  },
  {
   "cell_type": "code",
   "execution_count": null,
   "id": "overhead-piece",
   "metadata": {},
   "outputs": [],
   "source": [
    "pd.set_option('precision', 1)"
   ]
  },
  {
   "cell_type": "markdown",
   "id": "alpine-toner",
   "metadata": {},
   "source": [
    "# Pandas stylin examples"
   ]
  },
  {
   "cell_type": "code",
   "execution_count": null,
   "id": "copyrighted-better",
   "metadata": {},
   "outputs": [],
   "source": [
    "# TODO: add examples from pbpython: \"pandas stylin\"\n",
    "# https://pbpython.com/styling-pandas.html"
   ]
  },
  {
   "cell_type": "markdown",
   "id": "simplified-daisy",
   "metadata": {},
   "source": [
    "# Pandas - convert a column to a numeric type"
   ]
  },
  {
   "cell_type": "code",
   "execution_count": null,
   "id": "brilliant-gardening",
   "metadata": {},
   "outputs": [],
   "source": [
    "df['col']=df['col'].astype(str).convert_objects(convert_numeric=True)"
   ]
  },
  {
   "cell_type": "markdown",
   "id": "different-stamp",
   "metadata": {},
   "source": [
    "# Jupyter - handle logging in notebook"
   ]
  },
  {
   "cell_type": "code",
   "execution_count": null,
   "id": "chief-insured",
   "metadata": {},
   "outputs": [],
   "source": [
    "# At the beginning of the notebook\n",
    "from importlib import reload\n",
    "import logging\n",
    "reload(logging)\n",
    "log_fmt = '[%(levelname).1s] %(message)s'\n",
    "logging.basicConfig(format=log_fmt, level=logging.DEBUG, datefmt='%I:%M:%S')\n",
    "logging.debug(\"test debug\")\n",
    "logging.info(\"test info\")\n",
    "logging.warning(\"test warning\")"
   ]
  },
  {
   "cell_type": "markdown",
   "id": "united-cliff",
   "metadata": {},
   "source": [
    "# Jupyter - pass the variable to cell with bash"
   ]
  },
  {
   "cell_type": "code",
   "execution_count": null,
   "id": "incorrect-essence",
   "metadata": {},
   "outputs": [],
   "source": [
    "%%bash -s \"$fname\"\n",
    "echo \"$1\""
   ]
  },
  {
   "cell_type": "markdown",
   "id": "written-monthly",
   "metadata": {},
   "source": [
    "# Pandas - display dataframe with limited precision"
   ]
  },
  {
   "cell_type": "code",
   "execution_count": null,
   "id": "atmospheric-factor",
   "metadata": {},
   "outputs": [],
   "source": [
    "# all columns\n",
    "display(df.style.format('{0:,.2f}'))\n",
    "# selected columns\n",
    "display(df_agg.style.format({'A': '{0:,.2f}', 'B': '{0:,.2f}'}))"
   ]
  },
  {
   "cell_type": "markdown",
   "id": "genetic-lending",
   "metadata": {},
   "source": [
    "# Pandas - reorder columns"
   ]
  },
  {
   "cell_type": "code",
   "execution_count": null,
   "id": "painful-affair",
   "metadata": {},
   "outputs": [],
   "source": [
    "cols = df_agg.columns.tolist()\n",
    "    cols.insert(0, cols.pop(cols.index('rel')))\n",
    "    df_agg = self.df_agg.reindex(columns=cols)"
   ]
  },
  {
   "cell_type": "markdown",
   "id": "peaceful-pierre",
   "metadata": {},
   "source": [
    "# Matplotlib - legend outside"
   ]
  },
  {
   "cell_type": "code",
   "execution_count": null,
   "id": "negative-validity",
   "metadata": {},
   "outputs": [],
   "source": [
    "ax.legend(loc='center left', bbox_to_anchor=(1, 0.5))"
   ]
  },
  {
   "cell_type": "markdown",
   "id": "agricultural-programming",
   "metadata": {},
   "source": [
    "# Jupyter - save notebook as HTML report with nbconvert"
   ]
  },
  {
   "cell_type": "code",
   "execution_count": null,
   "id": "focused-photograph",
   "metadata": {},
   "outputs": [],
   "source": [
    "%%bash\n",
    "# in the end of the notebook put this bash cell\n",
    "\n",
    "# NOTE: Ensure that you saved the notebook before generating HTML report!\n",
    "now=$(date +\"%Y_%m_%d__%H_%M\")\n",
    "html_report_file = \"../../reports/${now}_experiment_result_analysis.html\"\n",
    "this_notebook_file = \"./experiment.ipynb\"\n",
    "jupyter nbconvert --output $html_report_file  $this_notebook_file --no-input\n"
   ]
  }
 ],
 "metadata": {
  "hide_input": false,
  "jupytext": {
   "formats": "ipynb,auto:light"
  },
  "kernelspec": {
   "display_name": "prolog38",
   "language": "python",
   "name": "prolog38"
  },
  "language_info": {
   "codemirror_mode": {
    "name": "ipython",
    "version": 3
   },
   "file_extension": ".py",
   "mimetype": "text/x-python",
   "name": "python",
   "nbconvert_exporter": "python",
   "pygments_lexer": "ipython3",
   "version": "3.8.6"
  },
  "toc": {
   "base_numbering": 1,
   "nav_menu": {},
   "number_sections": false,
   "sideBar": true,
   "skip_h1_title": false,
   "title_cell": "Table of Contents",
   "title_sidebar": "Contents",
   "toc_cell": false,
   "toc_position": {},
   "toc_section_display": true,
   "toc_window_display": true
  }
 },
 "nbformat": 4,
 "nbformat_minor": 5
}
